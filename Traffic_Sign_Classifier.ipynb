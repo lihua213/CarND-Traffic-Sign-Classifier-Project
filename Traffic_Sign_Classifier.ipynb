{
 "cells": [
  {
   "cell_type": "markdown",
   "metadata": {},
   "source": [
    "# Self-Driving Car Engineer Nanodegree\n",
    "\n",
    "## Deep Learning\n",
    "\n",
    "## Project: Build a Traffic Sign Recognition Classifier\n",
    "\n",
    "In this notebook, a template is provided for you to implement your functionality in stages which is required to successfully complete this project. If additional code is required that cannot be included in the notebook, be sure that the Python code is successfully imported and included in your submission, if necessary. Sections that begin with **'Implementation'** in the header indicate where you should begin your implementation for your project. Note that some sections of implementation are optional, and will be marked with **'Optional'** in the header.\n",
    "\n",
    "In addition to implementing code, there will be questions that you must answer which relate to the project and your implementation. Each section where you will answer a question is preceded by a **'Question'** header. Carefully read each question and provide thorough answers in the following text boxes that begin with **'Answer:'**. Your project submission will be evaluated based on your answers to each of the questions and the implementation you provide.\n",
    "\n",
    ">**Note:** Code and Markdown cells can be executed using the **Shift + Enter** keyboard shortcut. In addition, Markdown cells can be edited by typically double-clicking the cell to enter edit mode."
   ]
  },
  {
   "cell_type": "markdown",
   "metadata": {},
   "source": [
    "---\n",
    "## Step 0: Load The Data"
   ]
  },
  {
   "cell_type": "code",
   "execution_count": 1,
   "metadata": {
    "collapsed": true
   },
   "outputs": [],
   "source": [
    "# Load pickled data\n",
    "import pickle\n",
    "\n",
    "# TODO: Fill this in based on where you saved the training and testing data\n",
    "\n",
    "training_file = 'train.p'\n",
    "testing_file = 'test.p'\n",
    "\n",
    "with open(training_file, mode='rb') as f:\n",
    "    train = pickle.load(f)\n",
    "with open(testing_file, mode='rb') as f:\n",
    "    test = pickle.load(f)\n",
    "    \n",
    "X_train, y_train = train['features'], train['labels']\n",
    "X_test, y_test = test['features'], test['labels']\n",
    "c_train, c_test = train['coords'], test['coords']"
   ]
  },
  {
   "cell_type": "markdown",
   "metadata": {},
   "source": [
    "---\n",
    "\n",
    "## Step 1: Dataset Summary & Exploration\n",
    "\n",
    "The pickled data is a dictionary with 4 key/value pairs:\n",
    "\n",
    "- `'features'` is a 4D array containing raw pixel data of the traffic sign images, (num examples, width, height, channels).\n",
    "- `'labels'` is a 2D array containing the label/class id of the traffic sign. The file `signnames.csv` contains id -> name mappings for each id.\n",
    "- `'sizes'` is a list containing tuples, (width, height) representing the the original width and height the image.\n",
    "- `'coords'` is a list containing tuples, (x1, y1, x2, y2) representing coordinates of a bounding box around the sign in the image. **THESE COORDINATES ASSUME THE ORIGINAL IMAGE. THE PICKLED DATA CONTAINS RESIZED VERSIONS (32 by 32) OF THESE IMAGES**\n",
    "\n",
    "Complete the basic data summary below."
   ]
  },
  {
   "cell_type": "code",
   "execution_count": null,
   "metadata": {
    "collapsed": true
   },
   "outputs": [],
   "source": []
  },
  {
   "cell_type": "code",
   "execution_count": 2,
   "metadata": {
    "collapsed": false
   },
   "outputs": [],
   "source": [
    "import csv\n",
    "\n",
    "sign_names = []\n",
    "with open('signnames.csv', 'r') as f:\n",
    "    reader = csv.reader(f)\n",
    "    for row in reader:\n",
    "        sign_names.append(row[1])\n",
    "    sign_names.reverse()\n",
    "    sign_names.pop()\n",
    "    sign_names.reverse()"
   ]
  },
  {
   "cell_type": "code",
   "execution_count": 3,
   "metadata": {
    "collapsed": false
   },
   "outputs": [
    {
     "name": "stdout",
     "output_type": "stream",
     "text": [
      "Number of training examples = 39209\n",
      "Number of testing examples = 12630\n",
      "Image data shape = (32, 32, 3)\n",
      "Number of classes = 43\n"
     ]
    }
   ],
   "source": [
    "### Replace each question mark with the appropriate value.\n",
    "\n",
    "# TODO: Number of training examples\n",
    "assert(len(X_train) == len(y_train))\n",
    "n_train = len(X_train)\n",
    "\n",
    "# TODO: Number of testing examples.\n",
    "assert(len(X_test)==len(y_test))\n",
    "n_test = len(X_test)\n",
    "\n",
    "# TODO: What's the shape of an traffic sign image?\n",
    "image_shape = X_train[0].shape\n",
    "\n",
    "# TODO: How many unique classes/labels there are in the dataset.\n",
    "n_classes = 43\n",
    "\n",
    "print(\"Number of training examples =\", n_train)\n",
    "print(\"Number of testing examples =\", n_test)\n",
    "print(\"Image data shape =\", image_shape)\n",
    "print(\"Number of classes =\", n_classes)"
   ]
  },
  {
   "cell_type": "markdown",
   "metadata": {},
   "source": [
    "Visualize the German Traffic Signs Dataset using the pickled file(s). This is open ended, suggestions include: plotting traffic sign images, plotting the count of each sign, etc.\n",
    "\n",
    "The [Matplotlib](http://matplotlib.org/) [examples](http://matplotlib.org/examples/index.html) and [gallery](http://matplotlib.org/gallery.html) pages are a great resource for doing visualizations in Python.\n",
    "\n",
    "**NOTE:** It's recommended you start with something simple first. If you wish to do more, come back to it after you've completed the rest of the sections."
   ]
  },
  {
   "cell_type": "code",
   "execution_count": null,
   "metadata": {
    "collapsed": false
   },
   "outputs": [],
   "source": [
    "### Data exploration visualization goes here.\n",
    "### Feel free to use as many code cells as needed.\n",
    "import matplotlib.pyplot as plt\n",
    "import matplotlib.patches as patches\n",
    "import random\n",
    "# Visualizations will be shown in the notebook.\n",
    "%matplotlib inline\n",
    "\n",
    "num_x = 5\n",
    "num_y = 5\n",
    "fig, ax = plt.subplots(num_y,num_x)\n",
    "fig.set_size_inches(20,20)\n",
    "for i in range(num_x*num_y):\n",
    "    n = random.random()*n_train\n",
    "    ax[int(i/num_x)][i%num_x].imshow(X_train[n])\n",
    "    coords = c_train[n]\n",
    "    rect = patches.Rectangle((coords[0],coords[1]),coords[2]-coords[0],coords[3]-coords[1],edgecolor='#00ff00',facecolor='none')\n",
    "    ax[int(i/num_x)][i%num_x].add_patch(rect)\n",
    "    ax[int(i/num_x)][i%num_x].set_title(sign_names[y_train[n]])\n",
    "\n",
    "plt.axis('off')\n",
    "plt.show()"
   ]
  },
  {
   "cell_type": "code",
   "execution_count": null,
   "metadata": {
    "collapsed": false
   },
   "outputs": [],
   "source": [
    "import numpy as np\n",
    "hist_data = np.histogram(y_train,bins=range(44))\n",
    "hist_map = {}\n",
    "for occr,index in zip(hist_data[0],hist_data[1]):\n",
    "    hist_map[occr]=index\n",
    "\n",
    "plt.hist(y_train,bins=range(44),color='#00ffCC')\n",
    "plt.axis([0,43,0,2500])\n",
    "plt.show()\n",
    "\n",
    "print(\"Maximum Occuring Traffic Sign in the data: \"+sign_names[hist_map[np.amax(hist_data[0])]])\n",
    "print(\"Minimum Occuring Traffic Sign in the data: \"+sign_names[hist_map[np.amin(hist_data[0])]])"
   ]
  },
  {
   "cell_type": "code",
   "execution_count": 4,
   "metadata": {
    "collapsed": false
   },
   "outputs": [],
   "source": [
    "import numpy as np\n",
    "\n",
    "X_train = np.array(X_train)\n",
    "X_train = X_train/255"
   ]
  },
  {
   "cell_type": "code",
   "execution_count": 5,
   "metadata": {
    "collapsed": false
   },
   "outputs": [],
   "source": [
    "chann_index_swap = np.swapaxes(X_train,0,3)\n",
    "mean_image = [[[sum(pixel)/len(pixel) for pixel in col] for col in row] for row in chann_index_swap]\n",
    "mean_image = np.swapaxes(mean_image,0,2)\n",
    "mean_image = np.swapaxes(mean_image,0,1)\n",
    "\n",
    "X_train = X_train - mean_image"
   ]
  },
  {
   "cell_type": "code",
   "execution_count": null,
   "metadata": {
    "collapsed": false
   },
   "outputs": [],
   "source": [
    "import matplotlib.pyplot as plt\n",
    "plt.imshow(mean_image)\n",
    "plt.show()"
   ]
  },
  {
   "cell_type": "markdown",
   "metadata": {},
   "source": [
    "----\n",
    "\n",
    "## Step 2: Design and Test a Model Architecture\n",
    "\n",
    "Design and implement a deep learning model that learns to recognize traffic signs. Train and test your model on the [German Traffic Sign Dataset](http://benchmark.ini.rub.de/?section=gtsrb&subsection=dataset).\n",
    "\n",
    "There are various aspects to consider when thinking about this problem:\n",
    "\n",
    "- Neural network architecture\n",
    "- Play around preprocessing techniques (normalization, rgb to grayscale, etc)\n",
    "- Number of examples per label (some have more than others).\n",
    "- Generate fake data.\n",
    "\n",
    "Here is an example of a [published baseline model on this problem](http://yann.lecun.com/exdb/publis/pdf/sermanet-ijcnn-11.pdf). It's not required to be familiar with the approach used in the paper but, it's good practice to try to read papers like these.\n",
    "\n",
    "**NOTE:** The LeNet-5 implementation shown in the [classroom](https://classroom.udacity.com/nanodegrees/nd013/parts/fbf77062-5703-404e-b60c-95b78b2f3f9e/modules/6df7ae49-c61c-4bb2-a23e-6527e69209ec/lessons/601ae704-1035-4287-8b11-e2c2716217ad/concepts/d4aca031-508f-4e0b-b493-e7b706120f81) at the end of the CNN lesson is a solid starting point. You'll have to change the number of classes and possibly the preprocessing, but aside from that it's plug and play!"
   ]
  },
  {
   "cell_type": "markdown",
   "metadata": {},
   "source": [
    "### Implementation\n",
    "\n",
    "Use the code cell (or multiple code cells, if necessary) to implement the first step of your project. Once you have completed your implementation and are satisfied with the results, be sure to thoroughly answer the questions that follow."
   ]
  },
  {
   "cell_type": "code",
   "execution_count": 6,
   "metadata": {
    "collapsed": true
   },
   "outputs": [],
   "source": [
    "### Preprocess the data here.\n",
    "### Feel free to use as many code cells as needed.\n",
    "import tensorflow as tf\n",
    "\n",
    "EPOCHS = 10\n",
    "BATCH_SIZE = 128"
   ]
  },
  {
   "cell_type": "code",
   "execution_count": 7,
   "metadata": {
    "collapsed": true
   },
   "outputs": [],
   "source": [
    "### Preprocess the data here.\n",
    "### Feel free to use as many code cells as need\n",
    "def conv2d(x,W,b,output_depth,train=True,strides=1):\n",
    "    x = tf.nn.conv2d(x,W,strides=[1,strides,strides,1],padding='VALID')\n",
    "    x = batch_norm(x,output_depth,train)\n",
    "    x = tf.nn.bias_add(x,b)\n",
    "    return tf.nn.relu(x)   "
   ]
  },
  {
   "cell_type": "code",
   "execution_count": 8,
   "metadata": {
    "collapsed": true
   },
   "outputs": [],
   "source": [
    "def max_pool(x,k=2):\n",
    "    return tf.nn.max_pool(x,ksize=[1,k,k,1],strides=[1,k,k,1],padding='VALID')"
   ]
  },
  {
   "cell_type": "code",
   "execution_count": 9,
   "metadata": {
    "collapsed": true
   },
   "outputs": [],
   "source": [
    "depth = {\n",
    "    '1_c': 30,\n",
    "    '2_c': 200,\n",
    "    '3_f': 2200,\n",
    "    '4_f': 1000,\n",
    "    '5_f': 500,\n",
    "    '6_f': 120,\n",
    "    '7_o': 43\n",
    "}"
   ]
  },
  {
   "cell_type": "code",
   "execution_count": 10,
   "metadata": {
    "collapsed": false
   },
   "outputs": [],
   "source": [
    "mu  = 0\n",
    "SD = 0.1\n",
    "weights = {\n",
    "    #'1_conv': tf.Variable(tf.truncated_normal(shape=(5,5,3,depth['1_c']), mean = mu, stddev = SD)),\n",
    "    '1_conv': tf.get_variable(\"W_1_conv\", shape=[5, 5, 3, depth['1_c']],initializer=tf.contrib.layers.xavier_initializer()),\n",
    "    \n",
    "    #'2_conv': tf.Variable(tf.truncated_normal(shape=(5,5,depth['1_c'],depth['2_c']), mean = mu, stddev = SD)),\n",
    "    '2_conv': tf.get_variable(\"W_2_conv\", shape=[5, 5, depth['1_c'], depth['2_c']],initializer=tf.contrib.layers.xavier_initializer()),\n",
    "    \n",
    "    #'3_fullc': tf.Variable(tf.truncated_normal(shape=(5000,depth['3_f']),mean = mu, stddev = SD)),\n",
    "    '3_fullc': tf.get_variable(\"W_3_fullc\", shape=[5000, depth['3_f']],initializer=tf.contrib.layers.xavier_initializer()),\n",
    "    \n",
    "    #'4_fullc': tf.Variable(tf.truncated_normal(shape=(depth['3_f'],depth['4_f']),mean = mu, stddev = SD)),\n",
    "    '4_fullc': tf.get_variable(\"W_4_fullc\", shape=[depth['3_f'], depth['4_f']],initializer=tf.contrib.layers.xavier_initializer()),\n",
    "    \n",
    "    #'5_fullc': tf.Variable(tf.truncated_normal(shape=(depth['4_f'],depth['5_f']),mean = mu, stddev = SD)),\n",
    "    '5_fullc': tf.get_variable(\"W_5_fullc\", shape=[depth['4_f'], depth['5_f']],initializer=tf.contrib.layers.xavier_initializer()),\n",
    "    \n",
    "    #'6_fullc': tf.Variable(tf.truncated_normal(shape=(depth['5_f'],depth['6_f']),mean = mu, stddev = SD)),\n",
    "    '6_fullc': tf.get_variable(\"W_6_fullc\", shape=[depth['5_f'], depth['6_f']],initializer=tf.contrib.layers.xavier_initializer()),\n",
    "    \n",
    "    #'7_out': tf.Variable(tf.truncated_normal(shape=(depth['6_f'],depth['7_o']), mean = mu, stddev = SD))\n",
    "    '7_out': tf.get_variable(\"W_7_out\", shape=[depth['6_f'], depth['7_o']],initializer=tf.contrib.layers.xavier_initializer())\n",
    "}"
   ]
  },
  {
   "cell_type": "code",
   "execution_count": 11,
   "metadata": {
    "collapsed": false
   },
   "outputs": [],
   "source": [
    "biases = {\n",
    "    '1_conv': tf.Variable(tf.zeros(depth['1_c'])),\n",
    "    '2_conv': tf.Variable(tf.zeros(depth['2_c'])),\n",
    "    '3_fullc': tf.Variable(tf.zeros(depth['3_f'])),\n",
    "    '4_fullc': tf.Variable(tf.zeros(depth['4_f'])),\n",
    "    '5_fullc': tf.Variable(tf.zeros(depth['5_f'])),\n",
    "    '6_fullc': tf.Variable(tf.zeros(depth['6_f'])),\n",
    "    '7_out': tf.Variable(tf.zeros(depth['7_o']))\n",
    "}"
   ]
  },
  {
   "cell_type": "code",
   "execution_count": 12,
   "metadata": {
    "collapsed": true
   },
   "outputs": [],
   "source": [
    "def batch_norm(x, n_out, train):\n",
    "    \"\"\"\n",
    "    Batch normalization on convolutional maps.\n",
    "    Ref.: http://stackoverflow.com/questions/33949786/how-could-i-use-batch-normalization-in-tensorflow\n",
    "    Args:\n",
    "        x:           Tensor, 4D BHWD input maps\n",
    "        n_out:       integer, depth of input maps\n",
    "        phase_train: boolean tf.Varialbe, true indicates training phase\n",
    "        scope:       string, variable scope\n",
    "    Return:\n",
    "        normed:      batch-normalized maps\n",
    "    \"\"\"\n",
    "    with tf.variable_scope('bn'):\n",
    "        beta = tf.Variable(tf.constant(0.0, shape=[n_out]),\n",
    "                                     name='beta', trainable=True)\n",
    "        gamma = tf.Variable(tf.constant(1.0, shape=[n_out]),\n",
    "                                      name='gamma', trainable=True)\n",
    "        batch_mean, batch_var = tf.nn.moments(x, [0,1,2], name='moments')\n",
    "        ema = tf.train.ExponentialMovingAverage(decay=0.5)\n",
    "\n",
    "        def mean_var_with_update():\n",
    "            ema_apply_op = ema.apply([batch_mean, batch_var])\n",
    "            with tf.control_dependencies([ema_apply_op]):\n",
    "                return tf.identity(batch_mean), tf.identity(batch_var)\n",
    "\n",
    "        mean, var = tf.cond(train,\n",
    "                            mean_var_with_update,\n",
    "                            lambda: (ema.average(batch_mean), ema.average(batch_var)))\n",
    "        normed = tf.nn.batch_normalization(x, mean, var, beta, gamma, 1e-3)\n",
    "    return normed"
   ]
  },
  {
   "cell_type": "code",
   "execution_count": 13,
   "metadata": {
    "collapsed": true
   },
   "outputs": [],
   "source": [
    "def batch_norm_fullc(x, n_out, train):\n",
    "    \n",
    "    with tf.variable_scope('bn'):\n",
    "        beta = tf.Variable(tf.constant(0.0, shape=[n_out]),\n",
    "                                     name='beta', trainable=True)\n",
    "        gamma = tf.Variable(tf.constant(1.0, shape=[n_out]),\n",
    "                                      name='gamma', trainable=True)\n",
    "        batch_mean, batch_var = tf.nn.moments(x, [0], name='moments')\n",
    "        ema = tf.train.ExponentialMovingAverage(decay=0.5)\n",
    "\n",
    "        def mean_var_with_update():\n",
    "            ema_apply_op = ema.apply([batch_mean, batch_var])\n",
    "            with tf.control_dependencies([ema_apply_op]):\n",
    "                return tf.identity(batch_mean), tf.identity(batch_var)\n",
    "\n",
    "        mean, var = tf.cond(train,\n",
    "                            mean_var_with_update,\n",
    "                            lambda: (ema.average(batch_mean), ema.average(batch_var)))\n",
    "        normed = tf.nn.batch_normalization(x, mean, var, beta, gamma, 1e-3)\n",
    "    return normed"
   ]
  },
  {
   "cell_type": "code",
   "execution_count": 14,
   "metadata": {
    "collapsed": false
   },
   "outputs": [],
   "source": [
    "from tensorflow.contrib.layers import flatten\n",
    "\n",
    "def LeNet(x,train=True):    \n",
    "    # Hyperparameters\n",
    "    mu = 0\n",
    "    sigma = 0.1\n",
    "    \n",
    "    # TODO: Layer 1: Convolutional. Input = 32x32x3. Output = 30x30x12.\n",
    "\n",
    "    # TODO: Activation.\n",
    "    conv1 = conv2d(x,weights['1_conv'],biases['1_conv'],depth['1_c'],train)\n",
    "\n",
    "    # TODO: Pooling. Input = 30x30x12. Output = 15x15x12.\n",
    "    conv1 = max_pool(conv1)\n",
    "    #conv1 = batch_norm_layer(conv1,train_phase,scope_bn='bn')\n",
    "    \n",
    "    #conv1 = tf.cond(dropout > 0, lambda: tf.nn.dropout(conv1,0.98), lambda: conv1)\n",
    "    # TODO: Layer 2: Convolutional. Output = 13x13x48.\n",
    "    \n",
    "    # TODO: Activation.\n",
    "    conv2 = conv2d(conv1,weights['2_conv'],biases['2_conv'],depth['2_c'],train)\n",
    "\n",
    "    # TODO: Pooling. Input = 13x13x48. Output = 7x7x48.\n",
    "    conv2 = max_pool(conv2)\n",
    "    \n",
    "    #conv2 = batch_norm_layer(conv2,train_phase,scope_bn='bn')\n",
    "    \n",
    "    #conv2 = tf.cond(dropout > 0, lambda: tf.nn.dropout(conv2,0.92), lambda: conv2)\n",
    "    \n",
    "    # Flatten: Input = 2x2x192 Output = 768\n",
    "    fc0 = flatten(conv2)\n",
    "    \n",
    "    # TODO: Layer 4: Fully Connected. Input = 768. Output = 84.\n",
    "    fullc1 = tf.add(tf.matmul(fc0,weights['3_fullc']),biases['3_fullc'])\n",
    "    fullc1 = batch_norm_fullc(fullc1,depth['3_f'],train)\n",
    "    # TODO: Activation.\n",
    "    fullc1 = tf.nn.relu(fullc1)\n",
    "\n",
    "    fullc1 = tf.cond(train, lambda: tf.nn.dropout(fullc1,0.50), lambda: fullc1)\n",
    "    \n",
    "    fullc2 = tf.add(tf.matmul(fullc1,weights['4_fullc']),biases['4_fullc'])\n",
    "    fullc2 = batch_norm_fullc(fullc2,depth['4_f'],train)\n",
    "    fullc2 = tf.nn.relu(fullc2)\n",
    "    \n",
    "    fullc2 = tf.cond(train, lambda: tf.nn.dropout(fullc2,0.50), lambda: fullc2)\n",
    "    \n",
    "    fullc3 = tf.add(tf.matmul(fullc2,weights['5_fullc']),biases['5_fullc'])\n",
    "    fullc3 = batch_norm_fullc(fullc3,depth['5_f'],train)\n",
    "    fullc3 = tf.nn.relu(fullc3)\n",
    "    \n",
    "    fullc3 = tf.cond(train, lambda: tf.nn.dropout(fullc3,0.50), lambda: fullc3)\n",
    "    \n",
    "    fullc4 = tf.add(tf.matmul(fullc3,weights['6_fullc']),biases['6_fullc'])\n",
    "    fullc4 = batch_norm_fullc(fullc4,depth['6_f'],train)\n",
    "    fullc4 = tf.nn.relu(fullc4)\n",
    "    \n",
    "    fullc4 = tf.cond(train, lambda: tf.nn.dropout(fullc4,0.50), lambda: fullc4)\n",
    "    \n",
    "    # TODO: Layer 6: Fully Connected. Input = 84. Output = 10.\n",
    "    logits = tf.add(tf.matmul(fullc4,weights['7_out']),biases['7_out'])\n",
    "    \n",
    "    return logits"
   ]
  },
  {
   "cell_type": "markdown",
   "metadata": {},
   "source": [
    "### Question 1 \n",
    "\n",
    "_Describe how you preprocessed the data. Why did you choose that technique?_"
   ]
  },
  {
   "cell_type": "markdown",
   "metadata": {},
   "source": [
    "**Answer:**"
   ]
  },
  {
   "cell_type": "code",
   "execution_count": 15,
   "metadata": {
    "collapsed": true
   },
   "outputs": [],
   "source": [
    "### Generate data additional data (OPTIONAL!)\n",
    "### and split the data into training/validation/testing sets here.\n",
    "### Feel free to use as many code cells as needed."
   ]
  },
  {
   "cell_type": "markdown",
   "metadata": {},
   "source": [
    "### Question 2\n",
    "\n",
    "_Describe how you set up the training, validation and testing data for your model. **Optional**: If you generated additional data, how did you generate the data? Why did you generate the data? What are the differences in the new dataset (with generated data) from the original dataset?_"
   ]
  },
  {
   "cell_type": "markdown",
   "metadata": {},
   "source": [
    "**Answer:**"
   ]
  },
  {
   "cell_type": "code",
   "execution_count": 16,
   "metadata": {
    "collapsed": true
   },
   "outputs": [],
   "source": [
    "### Define your architecture here.\n",
    "### Feel free to use as many code cells as needed.\n",
    "x = tf.placeholder(tf.float32, (None, 32, 32, 3))\n",
    "y = tf.placeholder(tf.int32, (None))\n",
    "one_hot_y = tf.one_hot(y, 43)"
   ]
  },
  {
   "cell_type": "code",
   "execution_count": 17,
   "metadata": {
    "collapsed": false
   },
   "outputs": [],
   "source": [
    "rate = tf.placeholder(tf.float32)\n",
    "\n",
    "train = tf.placeholder(tf.bool)\n",
    "lr = 0.0001\n",
    "b = 1e-6\n",
    "k = 1e-7\n",
    "\n",
    "logits = LeNet(x,train)\n",
    "cross_entropy = tf.nn.softmax_cross_entropy_with_logits(logits, one_hot_y)\n",
    "loss = tf.reduce_mean(cross_entropy)\n",
    "\n",
    "beta = tf.placeholder(tf.float32)\n",
    "\n",
    "loss = tf.reduce_mean(loss+beta*tf.nn.l2_loss(weights['1_conv']))\n",
    "loss = tf.reduce_mean(loss+beta*tf.nn.l2_loss(weights['2_conv']))\n",
    "loss = tf.reduce_mean(loss+beta*tf.nn.l2_loss(weights['3_fullc']))\n",
    "loss = tf.reduce_mean(loss+beta*tf.nn.l2_loss(weights['4_fullc']))\n",
    "loss = tf.reduce_mean(loss+beta*tf.nn.l2_loss(weights['5_fullc']))\n",
    "loss = tf.reduce_mean(loss+beta*tf.nn.l2_loss(weights['6_fullc']))\n",
    "loss = tf.reduce_mean(loss+beta*tf.nn.l2_loss(weights['7_out']))\n",
    "loss = tf.reduce_mean(loss+beta*tf.nn.l2_loss(biases['1_conv']))\n",
    "loss = tf.reduce_mean(loss+beta*tf.nn.l2_loss(biases['2_conv']))\n",
    "loss = tf.reduce_mean(loss+beta*tf.nn.l2_loss(biases['3_fullc']))\n",
    "loss = tf.reduce_mean(loss+beta*tf.nn.l2_loss(biases['4_fullc']))\n",
    "loss = tf.reduce_mean(loss+beta*tf.nn.l2_loss(biases['5_fullc']))\n",
    "loss = tf.reduce_mean(loss+beta*tf.nn.l2_loss(biases['6_fullc']))\n",
    "loss_operation = tf.reduce_mean(loss+beta*tf.nn.l2_loss(biases['7_out']))\n",
    "\n",
    "optimizer = tf.train.AdamOptimizer(learning_rate = rate)\n",
    "training_operation = optimizer.minimize(loss_operation)"
   ]
  },
  {
   "cell_type": "code",
   "execution_count": 18,
   "metadata": {
    "collapsed": true
   },
   "outputs": [],
   "source": [
    "correct_prediction = tf.equal(tf.argmax(logits, 1), tf.argmax(one_hot_y, 1))\n",
    "accuracy_operation = tf.reduce_mean(tf.cast(correct_prediction, tf.float32))\n",
    "saver = tf.train.Saver()\n",
    "\n",
    "def evaluate(X_data, y_data):\n",
    "    num_examples = len(X_data)\n",
    "    total_accuracy = 0\n",
    "    sess = tf.get_default_session()\n",
    "    for offset in range(0, num_examples, BATCH_SIZE):\n",
    "        batch_x, batch_y = X_data[offset:offset+BATCH_SIZE], y_data[offset:offset+BATCH_SIZE]\n",
    "        accuracy = sess.run(accuracy_operation, feed_dict={x: batch_x, y: batch_y,train:False})\n",
    "        total_accuracy += (accuracy * len(batch_x))\n",
    "    return total_accuracy / num_examples"
   ]
  },
  {
   "cell_type": "code",
   "execution_count": 19,
   "metadata": {
    "collapsed": false
   },
   "outputs": [],
   "source": [
    "from sklearn.utils import shuffle\n",
    "from sklearn.model_selection import train_test_split\n",
    "\n",
    "X_train, X_validation, y_train, y_validation = train_test_split(X_train,y_train,test_size=0.2,random_state=0)\n",
    "X_train, y_train = shuffle(X_train, y_train)"
   ]
  },
  {
   "cell_type": "code",
   "execution_count": null,
   "metadata": {
    "collapsed": true
   },
   "outputs": [],
   "source": [
    "tf.reset_default_graph()"
   ]
  },
  {
   "cell_type": "code",
   "execution_count": null,
   "metadata": {
    "collapsed": false
   },
   "outputs": [],
   "source": [
    "import math\n",
    "\n",
    "small_sample_x = X_train[0:20]\n",
    "small_sample_y = y_train[0:20]\n",
    "\n",
    "with tf.Session() as sess:\n",
    "    sess.run(tf.initialize_all_variables())\n",
    "    num_examples = len(small_sample_x)\n",
    "    \n",
    "    batch_size = 10\n",
    "    print(\"Can we overfit?.......\")\n",
    "    print()\n",
    "    \n",
    "    print(\"Decay: \"+str(k))\n",
    "    sess.run(tf.initialize_all_variables())\n",
    "    for i in range(100):\n",
    "        lr = float(lr*np.exp(-k*i))\n",
    "        #small_sample_x, small_sample_y = shuffle(small_sample_x, small_sample_y)\n",
    "        for offset in range(0,num_examples,batch_size):\n",
    "            end = offset + batch_size\n",
    "            batch_x, batch_y = small_sample_x[offset:end], y_train[offset:end]\n",
    "            sess.run(training_operation, feed_dict={x:small_sample_x, y:small_sample_y, train:False, rate:lr, beta:b})\n",
    "        c = sess.run(loss_operation, feed_dict={x: small_sample_x, y: small_sample_y,train:False,beta:b})\n",
    "        print(\"Epoch: \"+str(i)+\" loss: \"+str(c)+\" learn rate:\"+str(lr)+\" beta: \"+str(b)+\" decay: \"+str(k))"
   ]
  },
  {
   "cell_type": "code",
   "execution_count": 21,
   "metadata": {
    "collapsed": false
   },
   "outputs": [
    {
     "name": "stdout",
     "output_type": "stream",
     "text": [
      "Training...\n",
      "\n",
      "EPOCH 1 ...\n",
      "Validation Accuracy = 0.499\n",
      "\n",
      "EPOCH 2 ...\n",
      "Validation Accuracy = 0.668\n",
      "\n",
      "EPOCH 3 ...\n",
      "Validation Accuracy = 0.777\n",
      "\n",
      "EPOCH 4 ...\n",
      "Validation Accuracy = 0.807\n",
      "\n",
      "EPOCH 5 ...\n",
      "Validation Accuracy = 0.893\n",
      "\n",
      "EPOCH 6 ...\n",
      "Validation Accuracy = 0.889\n",
      "\n",
      "EPOCH 7 ...\n",
      "Validation Accuracy = 0.934\n",
      "\n",
      "EPOCH 8 ...\n",
      "Validation Accuracy = 0.960\n",
      "\n",
      "EPOCH 9 ...\n",
      "Validation Accuracy = 0.964\n",
      "\n",
      "EPOCH 10 ...\n",
      "Validation Accuracy = 0.985\n",
      "\n",
      "Model saved\n"
     ]
    }
   ],
   "source": [
    "with tf.Session() as sess:\n",
    "    sess.run(tf.initialize_all_variables())\n",
    "    num_examples = len(X_train)\n",
    "    \n",
    "    print(\"Training...\")\n",
    "    print()\n",
    "    for i in range(EPOCHS):\n",
    "        X_train, y_train = shuffle(X_train, y_train)\n",
    "        for offset in range(0, num_examples, BATCH_SIZE):\n",
    "            end = offset + BATCH_SIZE\n",
    "            batch_x, batch_y = X_train[offset:end], y_train[offset:end]\n",
    "            sess.run(training_operation, feed_dict={x: batch_x, y: batch_y,train:True, rate:lr, beta:b})\n",
    "            \n",
    "        validation_accuracy = evaluate(X_validation, y_validation)\n",
    "        print(\"EPOCH {} ...\".format(i+1))\n",
    "        print(\"Validation Accuracy = {:.3f}\".format(validation_accuracy))\n",
    "        print()\n",
    "        \n",
    "    saver.save(sess, 'lenet')\n",
    "    print(\"Model saved\")"
   ]
  },
  {
   "cell_type": "markdown",
   "metadata": {},
   "source": [
    "### Question 3\n",
    "\n",
    "_What does your final architecture look like? (Type of model, layers, sizes, connectivity, etc.)  For reference on how to build a deep neural network using TensorFlow, see [Deep Neural Network in TensorFlow\n",
    "](https://classroom.udacity.com/nanodegrees/nd013/parts/fbf77062-5703-404e-b60c-95b78b2f3f9e/modules/6df7ae49-c61c-4bb2-a23e-6527e69209ec/lessons/b516a270-8600-4f93-a0a3-20dfeabe5da6/concepts/83a3a2a2-a9bd-4b7b-95b0-eb924ab14432) from the classroom._\n"
   ]
  },
  {
   "cell_type": "markdown",
   "metadata": {},
   "source": [
    "**Answer:**"
   ]
  },
  {
   "cell_type": "code",
   "execution_count": null,
   "metadata": {
    "collapsed": true
   },
   "outputs": [],
   "source": [
    "### Train your model here.\n",
    "### Feel free to use as many code cells as needed."
   ]
  },
  {
   "cell_type": "markdown",
   "metadata": {},
   "source": [
    "### Question 4\n",
    "\n",
    "_How did you train your model? (Type of optimizer, batch size, epochs, hyperparameters, etc.)_\n"
   ]
  },
  {
   "cell_type": "markdown",
   "metadata": {},
   "source": [
    "**Answer:**"
   ]
  },
  {
   "cell_type": "markdown",
   "metadata": {},
   "source": [
    "### Question 5\n",
    "\n",
    "\n",
    "_What approach did you take in coming up with a solution to this problem? It may have been a process of trial and error, in which case, outline the steps you took to get to the final solution and why you chose those steps. Perhaps your solution involved an already well known implementation or architecture. In this case, discuss why you think this is suitable for the current problem._"
   ]
  },
  {
   "cell_type": "markdown",
   "metadata": {},
   "source": [
    "**Answer:**"
   ]
  },
  {
   "cell_type": "markdown",
   "metadata": {},
   "source": [
    "---\n",
    "\n",
    "## Step 3: Test a Model on New Images\n",
    "\n",
    "Take several pictures of traffic signs that you find on the web or around you (at least five), and run them through your classifier on your computer to produce example results. The classifier might not recognize some local signs but it could prove interesting nonetheless.\n",
    "\n",
    "You may find `signnames.csv` useful as it contains mappings from the class id (integer) to the actual sign name."
   ]
  },
  {
   "cell_type": "markdown",
   "metadata": {},
   "source": [
    "### Implementation\n",
    "\n",
    "Use the code cell (or multiple code cells, if necessary) to implement the first step of your project. Once you have completed your implementation and are satisfied with the results, be sure to thoroughly answer the questions that follow."
   ]
  },
  {
   "cell_type": "code",
   "execution_count": null,
   "metadata": {
    "collapsed": true
   },
   "outputs": [],
   "source": [
    "### Load the images and plot them here.\n",
    "### Feel free to use as many code cells as needed."
   ]
  },
  {
   "cell_type": "markdown",
   "metadata": {},
   "source": [
    "### Question 6\n",
    "\n",
    "_Choose five candidate images of traffic signs and provide them in the report. Are there any particular qualities of the image(s) that might make classification difficult? It could be helpful to plot the images in the notebook._\n",
    "\n"
   ]
  },
  {
   "cell_type": "markdown",
   "metadata": {},
   "source": [
    "**Answer:**"
   ]
  },
  {
   "cell_type": "code",
   "execution_count": null,
   "metadata": {
    "collapsed": true
   },
   "outputs": [],
   "source": [
    "### Run the predictions here.\n",
    "### Feel free to use as many code cells as needed."
   ]
  },
  {
   "cell_type": "markdown",
   "metadata": {},
   "source": [
    "### Question 7\n",
    "\n",
    "_Is your model able to perform equally well on captured pictures when compared to testing on the dataset? The simplest way to do this check the accuracy of the predictions. For example, if the model predicted 1 out of 5 signs correctly, it's 20% accurate._\n",
    "\n",
    "_**NOTE:** You could check the accuracy manually by using `signnames.csv` (same directory). This file has a mapping from the class id (0-42) to the corresponding sign name. So, you could take the class id the model outputs, lookup the name in `signnames.csv` and see if it matches the sign from the image._\n"
   ]
  },
  {
   "cell_type": "markdown",
   "metadata": {},
   "source": [
    "**Answer:**"
   ]
  },
  {
   "cell_type": "code",
   "execution_count": null,
   "metadata": {
    "collapsed": true
   },
   "outputs": [],
   "source": [
    "### Visualize the softmax probabilities here.\n",
    "### Feel free to use as many code cells as needed."
   ]
  },
  {
   "cell_type": "markdown",
   "metadata": {},
   "source": [
    "### Question 8\n",
    "\n",
    "*Use the model's softmax probabilities to visualize the **certainty** of its predictions, [`tf.nn.top_k`](https://www.tensorflow.org/versions/r0.12/api_docs/python/nn.html#top_k) could prove helpful here. Which predictions is the model certain of? Uncertain? If the model was incorrect in its initial prediction, does the correct prediction appear in the top k? (k should be 5 at most)*\n",
    "\n",
    "`tf.nn.top_k` will return the values and indices (class ids) of the top k predictions. So if k=3, for each sign, it'll return the 3 largest probabilities (out of a possible 43) and the correspoding class ids.\n",
    "\n",
    "Take this numpy array as an example:\n",
    "\n",
    "```\n",
    "# (5, 6) array\n",
    "a = np.array([[ 0.24879643,  0.07032244,  0.12641572,  0.34763842,  0.07893497,\n",
    "         0.12789202],\n",
    "       [ 0.28086119,  0.27569815,  0.08594638,  0.0178669 ,  0.18063401,\n",
    "         0.15899337],\n",
    "       [ 0.26076848,  0.23664738,  0.08020603,  0.07001922,  0.1134371 ,\n",
    "         0.23892179],\n",
    "       [ 0.11943333,  0.29198961,  0.02605103,  0.26234032,  0.1351348 ,\n",
    "         0.16505091],\n",
    "       [ 0.09561176,  0.34396535,  0.0643941 ,  0.16240774,  0.24206137,\n",
    "         0.09155967]])\n",
    "```\n",
    "\n",
    "Running it through `sess.run(tf.nn.top_k(tf.constant(a), k=3))` produces:\n",
    "\n",
    "```\n",
    "TopKV2(values=array([[ 0.34763842,  0.24879643,  0.12789202],\n",
    "       [ 0.28086119,  0.27569815,  0.18063401],\n",
    "       [ 0.26076848,  0.23892179,  0.23664738],\n",
    "       [ 0.29198961,  0.26234032,  0.16505091],\n",
    "       [ 0.34396535,  0.24206137,  0.16240774]]), indices=array([[3, 0, 5],\n",
    "       [0, 1, 4],\n",
    "       [0, 5, 1],\n",
    "       [1, 3, 5],\n",
    "       [1, 4, 3]], dtype=int32))\n",
    "```\n",
    "\n",
    "Looking just at the first row we get `[ 0.34763842,  0.24879643,  0.12789202]`, you can confirm these are the 3 largest probabilities in `a`. You'll also notice `[3, 0, 5]` are the corresponding indices."
   ]
  },
  {
   "cell_type": "markdown",
   "metadata": {},
   "source": [
    "**Answer:**"
   ]
  },
  {
   "cell_type": "markdown",
   "metadata": {},
   "source": [
    "> **Note**: Once you have completed all of the code implementations and successfully answered each question above, you may finalize your work by exporting the iPython Notebook as an HTML document. You can do this by using the menu above and navigating to  \\n\",\n",
    "    \"**File -> Download as -> HTML (.html)**. Include the finished document along with this notebook as your submission."
   ]
  },
  {
   "cell_type": "code",
   "execution_count": null,
   "metadata": {
    "collapsed": true
   },
   "outputs": [],
   "source": []
  }
 ],
 "metadata": {
  "anaconda-cloud": {},
  "kernelspec": {
   "display_name": "Python [default]",
   "language": "python",
   "name": "python3"
  },
  "language_info": {
   "codemirror_mode": {
    "name": "ipython",
    "version": 3
   },
   "file_extension": ".py",
   "mimetype": "text/x-python",
   "name": "python",
   "nbconvert_exporter": "python",
   "pygments_lexer": "ipython3",
   "version": "3.5.2"
  }
 },
 "nbformat": 4,
 "nbformat_minor": 1
}
